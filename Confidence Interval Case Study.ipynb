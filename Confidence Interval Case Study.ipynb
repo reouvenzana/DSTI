{
  "nbformat": 4,
  "nbformat_minor": 0,
  "metadata": {
    "colab": {
      "provenance": [],
      "authorship_tag": "ABX9TyNnQmUImz88njHAZjCJWKk9",
      "include_colab_link": true
    },
    "kernelspec": {
      "name": "ir",
      "display_name": "R"
    },
    "language_info": {
      "name": "R"
    }
  },
  "cells": [
    {
      "cell_type": "markdown",
      "metadata": {
        "id": "view-in-github",
        "colab_type": "text"
      },
      "source": [
        "<a href=\"https://colab.research.google.com/github/reouvenzana/DSTI/blob/main/Confidence%20Interval%20Case%20Study.ipynb\" target=\"_parent\"><img src=\"https://colab.research.google.com/assets/colab-badge.svg\" alt=\"Open In Colab\"/></a>"
      ]
    },
    {
      "cell_type": "code",
      "source": [
        "# setwd('path of the directory where is the dataset')\n",
        "Data1=read.table('estimation1.txt') #a data.frame"
      ],
      "metadata": {
        "id": "qmJgZOJDhpCp"
      },
      "execution_count": 2,
      "outputs": []
    },
    {
      "cell_type": "code",
      "source": [
        "head(Data1)"
      ],
      "metadata": {
        "colab": {
          "base_uri": "https://localhost:8080/",
          "height": 303
        },
        "id": "piOe6ai4huM6",
        "outputId": "dd8dbb1e-ff0a-464d-b471-cb01d20d7721"
      },
      "execution_count": 3,
      "outputs": [
        {
          "output_type": "display_data",
          "data": {
            "text/html": [
              "<table class=\"dataframe\">\n",
              "<caption>A data.frame: 6 × 1</caption>\n",
              "<thead>\n",
              "\t<tr><th></th><th scope=col>V1</th></tr>\n",
              "\t<tr><th></th><th scope=col>&lt;dbl&gt;</th></tr>\n",
              "</thead>\n",
              "<tbody>\n",
              "\t<tr><th scope=row>1</th><td>-1.9161310</td></tr>\n",
              "\t<tr><th scope=row>2</th><td> 1.0356950</td></tr>\n",
              "\t<tr><th scope=row>3</th><td> 0.3708383</td></tr>\n",
              "\t<tr><th scope=row>4</th><td> 2.1450570</td></tr>\n",
              "\t<tr><th scope=row>5</th><td> 3.3242030</td></tr>\n",
              "\t<tr><th scope=row>6</th><td> 5.1099860</td></tr>\n",
              "</tbody>\n",
              "</table>\n"
            ],
            "text/markdown": "\nA data.frame: 6 × 1\n\n| <!--/--> | V1 &lt;dbl&gt; |\n|---|---|\n| 1 | -1.9161310 |\n| 2 |  1.0356950 |\n| 3 |  0.3708383 |\n| 4 |  2.1450570 |\n| 5 |  3.3242030 |\n| 6 |  5.1099860 |\n\n",
            "text/latex": "A data.frame: 6 × 1\n\\begin{tabular}{r|l}\n  & V1\\\\\n  & <dbl>\\\\\n\\hline\n\t1 & -1.9161310\\\\\n\t2 &  1.0356950\\\\\n\t3 &  0.3708383\\\\\n\t4 &  2.1450570\\\\\n\t5 &  3.3242030\\\\\n\t6 &  5.1099860\\\\\n\\end{tabular}\n",
            "text/plain": [
              "  V1        \n",
              "1 -1.9161310\n",
              "2  1.0356950\n",
              "3  0.3708383\n",
              "4  2.1450570\n",
              "5  3.3242030\n",
              "6  5.1099860"
            ]
          },
          "metadata": {}
        }
      ]
    },
    {
      "cell_type": "code",
      "source": [
        "dim(Data1)"
      ],
      "metadata": {
        "colab": {
          "base_uri": "https://localhost:8080/",
          "height": 34
        },
        "id": "r52DMI5PhuKp",
        "outputId": "e4962081-6825-475b-928d-356c6fb9bf2c"
      },
      "execution_count": 4,
      "outputs": [
        {
          "output_type": "display_data",
          "data": {
            "text/html": [
              "<style>\n",
              ".list-inline {list-style: none; margin:0; padding: 0}\n",
              ".list-inline>li {display: inline-block}\n",
              ".list-inline>li:not(:last-child)::after {content: \"\\00b7\"; padding: 0 .5ex}\n",
              "</style>\n",
              "<ol class=list-inline><li>10000</li><li>1</li></ol>\n"
            ],
            "text/markdown": "1. 10000\n2. 1\n\n\n",
            "text/latex": "\\begin{enumerate*}\n\\item 10000\n\\item 1\n\\end{enumerate*}\n",
            "text/plain": [
              "[1] 10000     1"
            ]
          },
          "metadata": {}
        }
      ]
    },
    {
      "cell_type": "markdown",
      "source": [
        "We have 10 000 individuals"
      ],
      "metadata": {
        "id": "4ut7btJSpauw"
      }
    },
    {
      "cell_type": "code",
      "source": [
        "str(Data1)"
      ],
      "metadata": {
        "colab": {
          "base_uri": "https://localhost:8080/"
        },
        "id": "9TUEPwcdkpPY",
        "outputId": "57607328-de26-4ada-a50f-7dec5e4bc0ab"
      },
      "execution_count": 5,
      "outputs": [
        {
          "output_type": "stream",
          "name": "stdout",
          "text": [
            "'data.frame':\t10000 obs. of  1 variable:\n",
            " $ V1: num  -1.916 1.036 0.371 2.145 3.324 ...\n"
          ]
        }
      ]
    },
    {
      "cell_type": "code",
      "source": [
        "Data1=as.matrix(Data1)\n",
        "A1=unique(Data1)"
      ],
      "metadata": {
        "id": "soXJjf8ikucx"
      },
      "execution_count": 6,
      "outputs": []
    },
    {
      "cell_type": "code",
      "source": [
        "dim(A1)"
      ],
      "metadata": {
        "colab": {
          "base_uri": "https://localhost:8080/",
          "height": 34
        },
        "id": "uwIJaQFqkxWA",
        "outputId": "ebc7872b-5ff0-4106-8284-ce5472aff6b7"
      },
      "execution_count": 7,
      "outputs": [
        {
          "output_type": "display_data",
          "data": {
            "text/html": [
              "<style>\n",
              ".list-inline {list-style: none; margin:0; padding: 0}\n",
              ".list-inline>li {display: inline-block}\n",
              ".list-inline>li:not(:last-child)::after {content: \"\\00b7\"; padding: 0 .5ex}\n",
              "</style>\n",
              "<ol class=list-inline><li>9996</li><li>1</li></ol>\n"
            ],
            "text/markdown": "1. 9996\n2. 1\n\n\n",
            "text/latex": "\\begin{enumerate*}\n\\item 9996\n\\item 1\n\\end{enumerate*}\n",
            "text/plain": [
              "[1] 9996    1"
            ]
          },
          "metadata": {}
        }
      ]
    },
    {
      "cell_type": "markdown",
      "source": [
        "We see that we have 9996 different values. We consider that this is a continuous variable since the count of each value is approximately equal to 1 (whereas it would be bigger if the variable was discrete)."
      ],
      "metadata": {
        "id": "tAMtbc1ik1wR"
      }
    },
    {
      "cell_type": "code",
      "source": [
        "hist(Data1,freq=FALSE) #we precise freq=FALSE to have the density on the Y-axis"
      ],
      "metadata": {
        "colab": {
          "base_uri": "https://localhost:8080/",
          "height": 437
        },
        "id": "cwvGUiMZqPHP",
        "outputId": "3f39e623-9d97-44c7-c43e-2f7d94f73f4d"
      },
      "execution_count": 8,
      "outputs": [
        {
          "output_type": "display_data",
          "data": {
            "text/plain": [
              "Plot with title “Histogram of Data1”"
            ],
            "image/png": "[encoded data removed]"
          },
          "metadata": {
            "image/png": {
              "width": 420,
              "height": 420
            }
          }
        }
      ]
    },
    {
      "cell_type": "markdown",
      "source": [
        "By looking the histogram it looks like a **gaussian distribution**.\n",
        "To get a better grasp, we can plot on the histogram the density of the gaussian distribution associated with it.\n",
        "\n",
        "To do so, we have to **estimate** the expectation and the variance.\n"
      ],
      "metadata": {
        "id": "E8t-XW4grmvM"
      }
    },
    {
      "cell_type": "code",
      "source": [
        "#estimation of the expectation : muh\n",
        "muh=mean(Data1)  #evaluation of the empirical mean onto the dataset\n",
        "\n",
        "#estimation of the variance : vh\n",
        "vh=var(Data1) #note that this is the unbiased estimator of the variance"
      ],
      "metadata": {
        "id": "g7bMJ13XsFRw"
      },
      "execution_count": 9,
      "outputs": []
    },
    {
      "cell_type": "markdown",
      "source": [
        "We supperpose the histogram and the density of its associated gaussian"
      ],
      "metadata": {
        "id": "64q97LduvLug"
      }
    },
    {
      "cell_type": "code",
      "source": [
        "x=seq(m,M+0.015,0.01) #we add 0.15 to make sure that M appears\n",
        "y=dnorm(x,muh,sqrt(vh))\n",
        "hist(Data1,freq=FALSE,breaks=30)\n",
        "lines(x,y,col='red')\n"
      ],
      "metadata": {
        "colab": {
          "base_uri": "https://localhost:8080/",
          "height": 437
        },
        "id": "RkmxvnzeyB3g",
        "outputId": "605227bd-08ab-4654-e6ec-5f5f736b657b"
      },
      "execution_count": 15,
      "outputs": [
        {
          "output_type": "display_data",
          "data": {
            "text/plain": [
              "Plot with title “Histogram of Data1”"
            ],
            "image/png": "[encoded data removed]"
          },
          "metadata": {
            "image/png": {
              "width": 420,
              "height": 420
            }
          }
        }
      ]
    },
    {
      "cell_type": "markdown",
      "source": [
        "According to the graph, a gaussian distribution seems a good fit. To be sure, we would have to perform a test.\n",
        "\n",
        "Here, we will simply construct a confidence interval for the expectation estimator, for $\\alpha = 0.05$. We're in the case of a gaussian random variable, where $\\sigma$ is unknown.\n",
        "\n",
        "Hence we use the following formula:\n",
        "\n",
        "$$\n",
        "\\left[\\overline{X}_{n} -\\frac{\\hat{\\sigma }_{n-1}}{\\sqrt{n}} z_{n-1,1-\\alpha _{2}} ,\\overline{X}_{n} +\\frac{\\hat{\\sigma }_{n-1}}{\\sqrt{n}} z_{n-1,1-\\alpha _{1}}\\right]\n",
        "$$\n",
        "\n"
      ],
      "metadata": {
        "id": "SPQmxXHCzPDq"
      }
    },
    {
      "cell_type": "code",
      "source": [
        "alpha=0.05\n",
        "n=nrow(Data1)\n",
        "lCI=muh-sqrt(vh)/sqrt(n)*qt(1-alpha/2,n-1) #lower bound\n",
        "uCI=muh+sqrt(vh)/sqrt(n)*qt(1-alpha/2,n-1) #higher bound"
      ],
      "metadata": {
        "id": "YneBFTvuhuIJ"
      },
      "execution_count": 17,
      "outputs": []
    },
    {
      "cell_type": "code",
      "source": [
        "lCI"
      ],
      "metadata": {
        "colab": {
          "base_uri": "https://localhost:8080/",
          "height": 115
        },
        "id": "MuobBpfp6hpP",
        "outputId": "da63fd29-dfce-4c5e-d857-50b07a1e6188"
      },
      "execution_count": 18,
      "outputs": [
        {
          "output_type": "display_data",
          "data": {
            "text/html": [
              "<table class=\"dataframe\">\n",
              "<caption>A matrix: 1 × 1 of type dbl</caption>\n",
              "<thead>\n",
              "\t<tr><th></th><th scope=col>V1</th></tr>\n",
              "</thead>\n",
              "<tbody>\n",
              "\t<tr><th scope=row>V1</th><td>0.6458558</td></tr>\n",
              "</tbody>\n",
              "</table>\n"
            ],
            "text/markdown": "\nA matrix: 1 × 1 of type dbl\n\n| <!--/--> | V1 |\n|---|---|\n| V1 | 0.6458558 |\n\n",
            "text/latex": "A matrix: 1 × 1 of type dbl\n\\begin{tabular}{r|l}\n  & V1\\\\\n\\hline\n\tV1 & 0.6458558\\\\\n\\end{tabular}\n",
            "text/plain": [
              "   V1       \n",
              "V1 0.6458558"
            ]
          },
          "metadata": {}
        }
      ]
    },
    {
      "cell_type": "code",
      "source": [
        "uCI"
      ],
      "metadata": {
        "colab": {
          "base_uri": "https://localhost:8080/",
          "height": 115
        },
        "id": "eHv79aHd6nnR",
        "outputId": "80a3b5aa-49ee-4c60-d2c6-1c16af10f76a"
      },
      "execution_count": 19,
      "outputs": [
        {
          "output_type": "display_data",
          "data": {
            "text/html": [
              "<table class=\"dataframe\">\n",
              "<caption>A matrix: 1 × 1 of type dbl</caption>\n",
              "<thead>\n",
              "\t<tr><th></th><th scope=col>V1</th></tr>\n",
              "</thead>\n",
              "<tbody>\n",
              "\t<tr><th scope=row>V1</th><td>0.7402</td></tr>\n",
              "</tbody>\n",
              "</table>\n"
            ],
            "text/markdown": "\nA matrix: 1 × 1 of type dbl\n\n| <!--/--> | V1 |\n|---|---|\n| V1 | 0.7402 |\n\n",
            "text/latex": "A matrix: 1 × 1 of type dbl\n\\begin{tabular}{r|l}\n  & V1\\\\\n\\hline\n\tV1 & 0.7402\\\\\n\\end{tabular}\n",
            "text/plain": [
              "   V1    \n",
              "V1 0.7402"
            ]
          },
          "metadata": {}
        }
      ]
    }
  ]
}